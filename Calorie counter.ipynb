{
 "cells": [
  {
   "cell_type": "code",
   "execution_count": 3,
   "metadata": {},
   "outputs": [
    {
     "name": "stdout",
     "output_type": "stream",
     "text": [
      "Added 'Salad' to the order.\n",
      "\n",
      "Selected items in the order:\n",
      "Salad: 15 calories - $4\n",
      "\n",
      "Total calorie count for the order: 15 calories\n"
     ]
    }
   ],
   "source": [
    "from calorie_counter_new import *\n",
    "\n",
    "combos = {\n",
    "    \"Cheesy Combo\": [\"Cheese Burger\", \"Sweet Potatoes\", \"Lemonade\"],\n",
    "    \"Veggie Combo\": [\"Veggie Burger\", \"Sweet Potatoes\", \"Iced Tea\"],\n",
    "    \"Vegan Combo\": [\"Vegan Burger\", \"Salad\", \"Lemonade\"],\n",
    "}\n",
    "\n",
    "selected_items = []\n",
    "\n",
    "while True:\n",
    "    order_item = input(\"Enter a meal or combo from the menu (or 'done' to finish): \").strip()\n",
    "    \n",
    "    if order_item.lower() == 'done':\n",
    "        break\n",
    "    \n",
    "    try:\n",
    "        if order_item in combos:\n",
    "            combo_items = combos[order_item]\n",
    "            selected_items.extend(combo_items)\n",
    "            print(f\"Added '{order_item}' to the order.\")\n",
    "        elif order_item in menu:\n",
    "            selected_items.append(order_item)\n",
    "            print(f\"Added '{order_item}' to the order.\")\n",
    "        else:\n",
    "            raise ValueError(f\"'{order_item}' not found in the menu.\")\n",
    "    except ValueError as e:\n",
    "        print(e)\n",
    "\n",
    "try:\n",
    "    total_calories = calculate_calories(*selected_items)\n",
    "except Exception as e:\n",
    "    print(\"Error calculating total calories:\", e)\n",
    "else:\n",
    "    if selected_items:\n",
    "        print(\"\\nSelected items in the order:\")\n",
    "        for item in selected_items:\n",
    "            print(f\"{item}: {menu.get(item, {}).get('calories', 'Calorie info not found')} calories - ${menu.get(item, {}).get('price', 'Price info not found')}\")\n",
    "        print(f\"\\nTotal calorie count for the order: {total_calories} calories\")\n",
    "    else:\n",
    "        print(\"No items selected.\")\n"
   ]
  }
 ],
 "metadata": {
  "kernelspec": {
   "display_name": "Python 3",
   "language": "python",
   "name": "python3"
  },
  "language_info": {
   "codemirror_mode": {
    "name": "ipython",
    "version": 3
   },
   "file_extension": ".py",
   "mimetype": "text/x-python",
   "name": "python",
   "nbconvert_exporter": "python",
   "pygments_lexer": "ipython3",
   "version": "3.11.6"
  }
 },
 "nbformat": 4,
 "nbformat_minor": 2
}
